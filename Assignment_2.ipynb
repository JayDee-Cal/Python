{
 "cells": [
  {
   "cell_type": "code",
   "execution_count": null,
   "metadata": {},
   "outputs": [],
   "source": [
    "#1.What are the two values of the Boolean data type? How do you write them"
   ]
  },
  {
   "cell_type": "code",
   "execution_count": 2,
   "metadata": {
    "colab": {
     "base_uri": "https://localhost:8080/"
    },
    "id": "dGdY-HjyVZF7",
    "outputId": "c0a1d9cb-9413-49fc-cda0-8f61b233d701"
   },
   "outputs": [
    {
     "name": "stdout",
     "output_type": "stream",
     "text": [
      "False\n",
      "True\n"
     ]
    }
   ],
   "source": [
    "#Types of Boolean Vlues are True and False\n",
    "print(True == False)\n",
    "print(True>False) "
   ]
  },
  {
   "cell_type": "markdown",
   "metadata": {
    "id": "Ls2vt3WrV6Rq"
   },
   "source": [
    "2. What are the three different types of Boolean operators?\n",
    "\n",
    "The three operator types of Boolean as \n",
    "and, or & not\n"
   ]
  },
  {
   "cell_type": "markdown",
   "metadata": {
    "id": "2dtR8Nf9XxGv"
   },
   "source": [
    "3. Make a list of each Boolean operator's truth tables (i.e. every possible combination of Boolean values for the operator and what it evaluate ).\n"
   ]
  },
  {
   "cell_type": "code",
   "execution_count": 3,
   "metadata": {
    "colab": {
     "base_uri": "https://localhost:8080/"
    },
    "id": "YkYFKxigW2g-",
    "outputId": "d13f689f-1ebe-49ff-8a57-4b123c5cb59b"
   },
   "outputs": [
    {
     "name": "stdout",
     "output_type": "stream",
     "text": [
      "False\n",
      "True\n",
      "False\n",
      "True\n"
     ]
    }
   ],
   "source": [
    "print(True and False)\n",
    "print(True or False)\n",
    "print(not True)\n",
    "print(not False)"
   ]
  },
  {
   "cell_type": "markdown",
   "metadata": {
    "id": "i6WY4YCQXWTV"
   },
   "source": [
    "4. What are the values of the following expressions?\n",
    "\n",
    "(5 > 4) and (3 == 5)                   False\n",
    "not (5 > 4)                            False\n",
    "(5 > 4) or (3 == 5)                    False\n",
    "not ((5 > 4) or (3 == 5))              False\n",
    "(True and True) and (True == False)    False\n",
    "(not False) or (not True)              True\n"
   ]
  },
  {
   "cell_type": "markdown",
   "metadata": {},
   "source": [
    "5. What are the six comparison operators"
   ]
  },
  {
   "cell_type": "markdown",
   "metadata": {
    "id": "GOI_GrI4ab2p"
   },
   "source": [
    "Less than                <\n",
    "Greater than             >\n",
    "Less than equal to       <=\n",
    "Greater than equal to    >=\n",
    "Is Equal to                == \n",
    "Not equal to            != "
   ]
  },
  {
   "cell_type": "markdown",
   "metadata": {
    "id": "TKJdK7k6aynV"
   },
   "source": [
    "6. How do you tell the difference between the equal to and assignment operators?Describe a condition and when you would use one.\n",
    "\n",
    "The Assignment operator operator assigns the value to a left side selected variable and equals to check wheather the both resultant values are exactly same or not."
   ]
  },
  {
   "cell_type": "code",
   "execution_count": 5,
   "metadata": {
    "colab": {
     "base_uri": "https://localhost:8080/"
    },
    "id": "lxvZgJR2bQc_",
    "outputId": "1fed4b91-56c9-452a-dd0d-7e9f2f64b538"
   },
   "outputs": [
    {
     "name": "stdout",
     "output_type": "stream",
     "text": [
      "False\n"
     ]
    }
   ],
   "source": [
    "#Equal to operator example\n",
    "\n",
    "a = 12\n",
    "b = 13\n",
    "print(a==b)\n",
    "# here we equate to check through Boolean , that the values are exactly same or not"
   ]
  },
  {
   "cell_type": "code",
   "execution_count": 6,
   "metadata": {
    "colab": {
     "base_uri": "https://localhost:8080/"
    },
    "id": "Cp3uK7gpbYhX",
    "outputId": "5945e94c-38f9-43a8-ab3b-02b495ba9ef9"
   },
   "outputs": [
    {
     "data": {
      "text/plain": [
       "[1, 3, 4, 7, 11, 31, 45, 56]"
      ]
     },
     "execution_count": 6,
     "metadata": {},
     "output_type": "execute_result"
    }
   ],
   "source": [
    "#Assignment operator example\n",
    "c = (a+b)\n",
    "c\n",
    "\n",
    "list = [3,4,1,45,11,7,56,31]\n",
    "list.sort()\n",
    "list"
   ]
  },
  {
   "cell_type": "code",
   "execution_count": 7,
   "metadata": {
    "colab": {
     "base_uri": "https://localhost:8080/"
    },
    "id": "qCRvUz5GcJ0U",
    "outputId": "d5f2824e-25b5-4439-b7dd-c99459d9f0ea"
   },
   "outputs": [
    {
     "name": "stdout",
     "output_type": "stream",
     "text": [
      "ham\n",
      "spam\n",
      "spam\n"
     ]
    }
   ],
   "source": [
    "# 7. Identify the three blocks in this code:\n",
    "\n",
    "#1st Block - This puts condition if the spam as assigned as 10 then 'eggs' and 'bacon' will be printed \n",
    "# as 10 is also greater than 5, which also follows the 2nd block if condition\n",
    "spam = 3\n",
    "if spam == 10:\n",
    "  print('eggs')\n",
    "\n",
    "\n",
    "#2nd Block - This puts condition if the spam as assigned as a value >5 (greater than 5) then 'bacon' will be printed, if the value is 10 then\n",
    "# both 'eggs' and 'bacon' will be printed\n",
    "if spam > 5:\n",
    "  print('bacon')\n",
    "\n",
    "\n",
    "#3rd Block - This puts condition if the spam as neither assigned as 10 nor >5 then this else condition will be followed \n",
    "# and will print 'ham' 'spam' 'spam'\n",
    "else:\n",
    "  print('ham')\n",
    "  print('spam')\n",
    "  print('spam')\n"
   ]
  },
  {
   "cell_type": "markdown",
   "metadata": {
    "id": "b-FiZIXHefV-"
   },
   "source": []
  },
  {
   "cell_type": "code",
   "execution_count": 8,
   "metadata": {
    "id": "V6GYIKECd6h9"
   },
   "outputs": [],
   "source": [
    "#8. Write code that prints Hello if 1 is stored in spam, prints Howdy if 2 is stored in spam, and prints Greetings! if anything else is stored in spam."
   ]
  },
  {
   "cell_type": "code",
   "execution_count": 10,
   "metadata": {
    "colab": {
     "base_uri": "https://localhost:8080/"
    },
    "id": "sdRkBjsXevJo",
    "outputId": "09e5e8d9-4611-4d1c-a524-93c39aa7b5e2"
   },
   "outputs": [
    {
     "name": "stdout",
     "output_type": "stream",
     "text": [
      "Greetings!\n"
     ]
    }
   ],
   "source": [
    "spam = 1.5\n",
    "\n",
    "if spam == 1:\n",
    "  print('Hello')\n",
    "\n",
    "elif spam ==2:\n",
    "  print('Howdy')\n",
    "\n",
    "else:\n",
    "  print('Greetings!')"
   ]
  },
  {
   "cell_type": "markdown",
   "metadata": {
    "id": "knUGvEQqfz3u"
   },
   "source": [
    "9.If your programme is stuck in an endless loop, what keys you’ll press?\n",
    "\n",
    "Ctr+C"
   ]
  },
  {
   "cell_type": "markdown",
   "metadata": {
    "id": "meFheN5dg9AX"
   },
   "source": [
    "10. How can you tell the difference between break and continue?\n",
    "\n",
    "Break - The break statement terminates the loop containing it.\n",
    "Continue - The continue statement is used to skip the rest of the code inside a loop for the current iteration only. Loop does not terminate but continues on with the next iteration."
   ]
  },
  {
   "cell_type": "markdown",
   "metadata": {
    "id": "Ikgkp4duhlhF"
   },
   "source": [
    "11. In a for loop, what is the difference between range(10), range(0, 10), and range(0, 10, 1)?"
   ]
  },
  {
   "cell_type": "code",
   "execution_count": 17,
   "metadata": {
    "colab": {
     "base_uri": "https://localhost:8080/"
    },
    "id": "eBG3-St9I-Nv",
    "outputId": "2c3ddf32-bfa2-482d-a30d-10af3b37e0ab"
   },
   "outputs": [
    {
     "name": "stdout",
     "output_type": "stream",
     "text": [
      "0\n",
      "1\n",
      "2\n",
      "3\n",
      "4\n",
      "5\n",
      "6\n",
      "7\n",
      "8\n",
      "9\n"
     ]
    }
   ],
   "source": [
    "# range(start, stop, increment) \n",
    "# range(0,10,1) = here 0 defines starting point of the sequence, 10 as ending point of the sequence, 1 as increment/decrement parameter w.r.t +ve or -ve number\n",
    "# range(0,10) and range(10) also defines the same as range function works with whole numbers defining various parameters according to the requirements\n",
    "# if we dont provide a starting or increment number it automatically takes starting as 0 and increment as 1\n",
    "# Hence, There is no difference between range(10), range(0, 10), and range(0, 10, 1)\n",
    "\n",
    "\n",
    "r = range(10)\n",
    "for i in range(0,10,1):\n",
    "  print(i)"
   ]
  },
  {
   "cell_type": "markdown",
   "metadata": {
    "id": "4wcpD_QhhpAi"
   },
   "source": [
    "12. Write a short program that prints the numbers 1 to 10 using a for loop. Then write an equivalent program that prints the numbers 1 to 10 using a while loop."
   ]
  },
  {
   "cell_type": "code",
   "execution_count": 18,
   "metadata": {
    "colab": {
     "base_uri": "https://localhost:8080/"
    },
    "id": "UFGW6XUpOFqi",
    "outputId": "6522d2e6-67ea-4aa8-ee37-0cc9d7b9848d"
   },
   "outputs": [
    {
     "name": "stdout",
     "output_type": "stream",
     "text": [
      "1\n",
      "2\n",
      "3\n",
      "4\n",
      "5\n",
      "6\n",
      "7\n",
      "8\n",
      "9\n",
      "10\n"
     ]
    }
   ],
   "source": [
    "dt = range(1,11)\n",
    "for i in dt:\n",
    "  print(i)\n",
    "\n",
    "  "
   ]
  },
  {
   "cell_type": "code",
   "execution_count": 19,
   "metadata": {
    "colab": {
     "base_uri": "https://localhost:8080/"
    },
    "id": "X0Mgj06YXkon",
    "outputId": "aa10260b-e233-4939-f221-812a9e3c9e55"
   },
   "outputs": [
    {
     "name": "stdout",
     "output_type": "stream",
     "text": [
      "1\n",
      "2\n",
      "3\n",
      "4\n",
      "5\n",
      "6\n",
      "7\n",
      "8\n",
      "9\n",
      "10\n"
     ]
    }
   ],
   "source": [
    "num = 1\n",
    "while num <= 10:\n",
    "  print(num)\n",
    "  num = num+1"
   ]
  },
  {
   "cell_type": "markdown",
   "metadata": {
    "id": "z_Yc_ORZhrnT"
   },
   "source": [
    "13. If you had a function named bacon() inside a module named spam, how would you call it after importing spam?"
   ]
  },
  {
   "cell_type": "code",
   "execution_count": null,
   "metadata": {
    "id": "UwOvcYrihua_"
   },
   "outputs": [],
   "source": []
  }
 ],
 "metadata": {
  "colab": {
   "collapsed_sections": [],
   "name": "Assignment_2.ipynb",
   "provenance": []
  },
  "kernelspec": {
   "display_name": "Python 3",
   "language": "python",
   "name": "python3"
  },
  "language_info": {
   "codemirror_mode": {
    "name": "ipython",
    "version": 3
   },
   "file_extension": ".py",
   "mimetype": "text/x-python",
   "name": "python",
   "nbconvert_exporter": "python",
   "pygments_lexer": "ipython3",
   "version": "3.7.6"
  }
 },
 "nbformat": 4,
 "nbformat_minor": 1
}
