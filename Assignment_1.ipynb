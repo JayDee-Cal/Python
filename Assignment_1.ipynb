{
  "nbformat": 4,
  "nbformat_minor": 0,
  "metadata": {
    "colab": {
      "name": "Assignment_1.ipynb",
      "provenance": [],
      "collapsed_sections": []
    },
    "kernelspec": {
      "name": "python3",
      "display_name": "Python 3"
    },
    "language_info": {
      "name": "python"
    }
  },
  "cells": [
    {
      "cell_type": "markdown",
      "source": [
        "1. In the below elements which of them are values or an expression? eg:- values can be\n",
        "integer or string and expressions will be mathematical operators.\n",
        "*\n",
        "&#39;hello&#39;\n",
        "-87.8\n",
        "-\n",
        "/\n",
        "+"
      ],
      "metadata": {
        "id": "J88KHHeEasiN"
      }
    },
    {
      "cell_type": "markdown",
      "source": [
        "* is a mathematical operator\n",
        "'hello' is a string value\n",
        "-87.8 is a float value\n",
        "- is a mathematical operator - subtraction\n",
        "+ is a mathematical operator - addition \n",
        "6 is an int (integer) value"
      ],
      "metadata": {
        "id": "dLq8snArdtKb"
      }
    },
    {
      "cell_type": "markdown",
      "source": [
        "2. What is the difference between string and variable?"
      ],
      "metadata": {
        "id": "mLBzBGXOd0bf"
      }
    },
    {
      "cell_type": "markdown",
      "source": [
        "String is a value which can be put together in series like a script, whereas a variable is a string or alphanumeric type to which a value can be assigned or a function can be assigned, we afterwards can also call these variables in order to fetch the final results"
      ],
      "metadata": {
        "id": "iJPfQX97d7mq"
      }
    },
    {
      "cell_type": "markdown",
      "source": [
        "3. Describe three different data types."
      ],
      "metadata": {
        "id": "RKVXKsW9myUU"
      }
    },
    {
      "cell_type": "markdown",
      "source": [
        "Following are the various dta types:-\n",
        "\n",
        "String = 'Ab@23-xyZ', 'Jaideep', '2183.67'\n",
        "int = 1, 2, 3, 4\n",
        "float = 28.3, 41.01, 62.9\n",
        "Boolean = True / False"
      ],
      "metadata": {
        "id": "PZyGGb43m1pp"
      }
    },
    {
      "cell_type": "markdown",
      "source": [
        "4. What is an expression made up of? What do all expressions do?"
      ],
      "metadata": {
        "id": "sVizJljOpRvF"
      }
    },
    {
      "cell_type": "markdown",
      "source": [
        "Expressions are the mathematical symbols that are used to make arithmetic changes with the numbers and genrating various results out of it, in order to make calculations.\n",
        "\n",
        "Following are the Expressions and their functions:-\n",
        "+ Addition ,   a+b = c\n",
        "- Subtraction, a-b = c\n",
        "* Sum (Multiplication), a*b = c\n",
        "/ Divion ,     a/b = c\n",
        "% Remainder ,  a%b = c\n",
        "** raise to the power , a**b = c\n"
      ],
      "metadata": {
        "id": "WkRA9-RmpVxM"
      }
    },
    {
      "cell_type": "markdown",
      "source": [
        "5. This assignment statements, like spam = 10. What is the difference between an\n",
        "expression and a statement?"
      ],
      "metadata": {
        "id": "77P10BKjsG2V"
      }
    },
    {
      "cell_type": "markdown",
      "source": [
        "Expression can be a combination of values, mathematical operators or varibales, that generates a result for eg p = 12, q = 23, r = 48, res = (p/r) + q\n",
        "res is the Expresssion here giving a mathematical instruction that gives a single result\n",
        "\n",
        "A statement is an struction given for eg a = 12, print(a)\n",
        "here an int value is assigned to a and next step the print instruction is given for a\n"
      ],
      "metadata": {
        "id": "dHZnxIm40K_s"
      }
    },
    {
      "cell_type": "markdown",
      "source": [
        "6. After running the following code, what does the variable bacon contain?\n",
        "bacon = 22\n",
        "bacon + 1"
      ],
      "metadata": {
        "id": "0mH40OBKHMfK"
      }
    },
    {
      "cell_type": "code",
      "source": [
        "bacon = 22\n",
        "bacon + 1\n",
        "\n",
        "# After running the code the result is 23, as inital value assigned to bacon was 22(int), after the bacon statement had a addition of 1, \n",
        "# which results in 23"
      ],
      "metadata": {
        "colab": {
          "base_uri": "https://localhost:8080/"
        },
        "id": "Tg91Bzt5HiQk",
        "outputId": "4a8d7f28-3cec-4552-b7af-86a4f69119e6"
      },
      "execution_count": 4,
      "outputs": [
        {
          "output_type": "execute_result",
          "data": {
            "text/plain": [
              "23"
            ]
          },
          "metadata": {},
          "execution_count": 4
        }
      ]
    },
    {
      "cell_type": "markdown",
      "source": [
        "7. What should the values of the following two terms be?\n",
        "'spam' + 'spamspam'\n",
        "'spam' * 3"
      ],
      "metadata": {
        "id": "y67VBruqILFJ"
      }
    },
    {
      "cell_type": "code",
      "source": [
        "'spam' + 'spamspam' # this will result in 'spamspamspam', as in case of strings when the strings are added it results in concatenation\n",
        "'spam' * 3     # this will result in 'spamspamspam' as string multiplies itslef when subjected to multiplication\n",
        "\n",
        "# running these both will also result in 'spamspamspam' as it the first result is replaced by the second one \n",
        "# as both being the same there is no difference in the results"
      ],
      "metadata": {
        "colab": {
          "base_uri": "https://localhost:8080/",
          "height": 35
        },
        "id": "tO_7yzEdHp_x",
        "outputId": "a2269d9a-69f8-452b-f274-9907f87d68ad"
      },
      "execution_count": 9,
      "outputs": [
        {
          "output_type": "execute_result",
          "data": {
            "text/plain": [
              "'spamspamspam'"
            ],
            "application/vnd.google.colaboratory.intrinsic+json": {
              "type": "string"
            }
          },
          "metadata": {},
          "execution_count": 9
        }
      ]
    },
    {
      "cell_type": "markdown",
      "source": [
        "8. Why is eggs a valid variable name while 100 is invalid?"
      ],
      "metadata": {
        "id": "ez1gE3BSJrgS"
      }
    },
    {
      "cell_type": "markdown",
      "source": [
        "Eggs is valid because its a string value which can be assigned as value as any mathematical operator or some value, but 100 is itself an int value, we cannot assign a operator or cannot put statement as a int value"
      ],
      "metadata": {
        "id": "uXMeQrTgJ43D"
      }
    },
    {
      "cell_type": "markdown",
      "source": [
        "9. What three functions can be used to get the integer, floating-point number, or string version of a value?"
      ],
      "metadata": {
        "id": "EoJrbld0LBMG"
      }
    },
    {
      "cell_type": "code",
      "source": [
        "# Following are the functions:-\n",
        "a = 164\n",
        "\n",
        "int(a)\n",
        "float(a)\n",
        "str(a)"
      ],
      "metadata": {
        "colab": {
          "base_uri": "https://localhost:8080/",
          "height": 35
        },
        "id": "AgFFq-6POAOd",
        "outputId": "c8fce79e-7853-49c9-f51b-89adbf95c1dc"
      },
      "execution_count": 12,
      "outputs": [
        {
          "output_type": "execute_result",
          "data": {
            "text/plain": [
              "'164'"
            ],
            "application/vnd.google.colaboratory.intrinsic+json": {
              "type": "string"
            }
          },
          "metadata": {},
          "execution_count": 12
        }
      ]
    },
    {
      "cell_type": "markdown",
      "source": [
        "10. Why does this expression cause an error? How can you fix it?\n",
        "'I have eaten' +99+ 'burritos.'"
      ],
      "metadata": {
        "id": "RiDd7s4AOUNu"
      }
    },
    {
      "cell_type": "code",
      "source": [
        "# 'I have eaten' +99+ 'burritos.'\n",
        "# We can concatenate only strings together\n",
        "\n",
        "# solution: by putting the 99 int value in single or double inverted commas so that we can change the variable type to str/string\n",
        "'I have eaten' +' 99 '+ 'burritos.'"
      ],
      "metadata": {
        "colab": {
          "base_uri": "https://localhost:8080/",
          "height": 35
        },
        "id": "2SOIJkpiOmeP",
        "outputId": "a12230d7-d2d1-4939-9123-ac35afd4c7eb"
      },
      "execution_count": 16,
      "outputs": [
        {
          "output_type": "execute_result",
          "data": {
            "text/plain": [
              "'I have eaten 99 burritos.'"
            ],
            "application/vnd.google.colaboratory.intrinsic+json": {
              "type": "string"
            }
          },
          "metadata": {},
          "execution_count": 16
        }
      ]
    },
    {
      "cell_type": "code",
      "source": [
        ""
      ],
      "metadata": {
        "id": "J3BkR-aAPGLE"
      },
      "execution_count": null,
      "outputs": []
    }
  ]
}