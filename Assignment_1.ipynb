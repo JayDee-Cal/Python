{
 "cells": [
  {
   "cell_type": "raw",
   "metadata": {
    "id": "J88KHHeEasiN"
   },
   "source": [
    "1. In the below elements which of them are values or an expression? eg:- values can be\n",
    "integer or string and expressions will be mathematical operators.\n",
    "\n",
    "*\n",
    "'hello'\n",
    "-87.8\n",
    "-\n",
    "/\n",
    "+\n",
    "6"
   ]
  },
  {
   "cell_type": "raw",
   "metadata": {
    "id": "dLq8snArdtKb"
   },
   "source": [
    "* is a mathematical operator\n",
    "'hello' is a string value\n",
    "-87.8 is a float value\n",
    "- is a mathematical operator - subtraction\n",
    "+ is a mathematical operator - addition \n",
    "6 is an int (integer) value"
   ]
  },
  {
   "cell_type": "markdown",
   "metadata": {
    "id": "mLBzBGXOd0bf"
   },
   "source": [
    "2. What is the difference between string and variable?"
   ]
  },
  {
   "cell_type": "markdown",
   "metadata": {
    "id": "iJPfQX97d7mq"
   },
   "source": [
    "String is a value which can be put together in series like a script, whereas a variable is a string or alphanumeric type to which a value can be assigned or a function can be assigned, we afterwards can also call these variables in order to fetch the final results"
   ]
  },
  {
   "cell_type": "markdown",
   "metadata": {
    "id": "RKVXKsW9myUU"
   },
   "source": [
    "3. Describe three different data types."
   ]
  },
  {
   "cell_type": "markdown",
   "metadata": {
    "id": "PZyGGb43m1pp"
   },
   "source": [
    "Following are the various dta types:-\n",
    "\n",
    "String = 'Ab@23-xyZ', 'Jaideep', '2183.67'\n",
    "int = 1, 2, 3, 4\n",
    "float = 28.3, 41.01, 62.9\n",
    "Boolean = True / False"
   ]
  },
  {
   "cell_type": "markdown",
   "metadata": {
    "id": "sVizJljOpRvF"
   },
   "source": [
    "4. What is an expression made up of? What do all expressions do?"
   ]
  },
  {
   "cell_type": "raw",
   "metadata": {
    "id": "WkRA9-RmpVxM"
   },
   "source": [
    "Expressions are the mathematical symbols that are used to make arithmetic changes with the numbers and genrating various results out of it, in order to make calculations.\n",
    "\n",
    "Following are the Expressions and their functions:-\n",
    "+ Addition ,   a+b = c\n",
    "- Subtraction, a-b = c\n",
    "* Sum (Multiplication), a*b = c\n",
    "/ Divion ,     a/b = c\n",
    "% Remainder ,  a%b = c\n",
    "** raise to the power , a**b = c\n"
   ]
  },
  {
   "cell_type": "markdown",
   "metadata": {
    "id": "77P10BKjsG2V"
   },
   "source": [
    "5. This assignment statements, like spam = 10. What is the difference between an\n",
    "expression and a statement?"
   ]
  },
  {
   "cell_type": "markdown",
   "metadata": {
    "id": "dHZnxIm40K_s"
   },
   "source": [
    "Expression can be a combination of values, mathematical operators or varibales, that generates a result for eg p = 12, q = 23, r = 48, res = (p/r) + q\n",
    "res is the Expresssion here giving a mathematical instruction that gives a single result\n",
    "\n",
    "A statement is an struction given for eg a = 12, print(a)\n",
    "here an int value is assigned to a and next step the print instruction is given for a\n"
   ]
  },
  {
   "cell_type": "markdown",
   "metadata": {
    "id": "0mH40OBKHMfK"
   },
   "source": [
    "6. After running the following code, what does the variable bacon contain?\n",
    "bacon = 22\n",
    "bacon + 1"
   ]
  },
  {
   "cell_type": "code",
   "execution_count": 3,
   "metadata": {
    "colab": {
     "base_uri": "https://localhost:8080/"
    },
    "id": "Tg91Bzt5HiQk",
    "outputId": "4a8d7f28-3cec-4552-b7af-86a4f69119e6"
   },
   "outputs": [
    {
     "data": {
      "text/plain": [
       "23"
      ]
     },
     "execution_count": 3,
     "metadata": {},
     "output_type": "execute_result"
    }
   ],
   "source": [
    "bacon = 22\n",
    "bacon + 1\n",
    "\n",
    "# After running the code the result is 23, as inital value assigned to bacon was 22(int), after the bacon statement had a addition of 1, \n",
    "# which results in 23"
   ]
  },
  {
   "cell_type": "markdown",
   "metadata": {
    "id": "y67VBruqILFJ"
   },
   "source": [
    "7. What should the values of the following two terms be?\n",
    "'spam' + 'spamspam'\n",
    "'spam' * 3"
   ]
  },
  {
   "cell_type": "code",
   "execution_count": 4,
   "metadata": {
    "colab": {
     "base_uri": "https://localhost:8080/",
     "height": 35
    },
    "id": "tO_7yzEdHp_x",
    "outputId": "a2269d9a-69f8-452b-f274-9907f87d68ad"
   },
   "outputs": [
    {
     "data": {
      "text/plain": [
       "'spamspamspam'"
      ]
     },
     "execution_count": 4,
     "metadata": {},
     "output_type": "execute_result"
    }
   ],
   "source": [
    "'spam' + 'spamspam' # this will result in 'spamspamspam', as in case of strings when the strings are added it results in concatenation\n",
    "'spam' * 3     # this will result in 'spamspamspam' as string multiplies itslef when subjected to multiplication\n",
    "\n",
    "# running these both will also result in 'spamspamspam' as it the first result is replaced by the second one \n",
    "# as both being the same there is no difference in the results"
   ]
  },
  {
   "cell_type": "markdown",
   "metadata": {
    "id": "ez1gE3BSJrgS"
   },
   "source": [
    "8. Why is eggs a valid variable name while 100 is invalid?"
   ]
  },
  {
   "cell_type": "markdown",
   "metadata": {
    "id": "uXMeQrTgJ43D"
   },
   "source": [
    "Eggs is valid because its a string value which can be assigned as value as any mathematical operator or some value, but 100 is itself an int value, we cannot assign a operator or cannot put statement as a int value"
   ]
  },
  {
   "cell_type": "markdown",
   "metadata": {
    "id": "EoJrbld0LBMG"
   },
   "source": [
    "9. What three functions can be used to get the integer, floating-point number, or string version of a value?"
   ]
  },
  {
   "cell_type": "code",
   "execution_count": 5,
   "metadata": {
    "colab": {
     "base_uri": "https://localhost:8080/",
     "height": 35
    },
    "id": "AgFFq-6POAOd",
    "outputId": "c8fce79e-7853-49c9-f51b-89adbf95c1dc"
   },
   "outputs": [
    {
     "data": {
      "text/plain": [
       "'164'"
      ]
     },
     "execution_count": 5,
     "metadata": {},
     "output_type": "execute_result"
    }
   ],
   "source": [
    "# Following are the functions:-\n",
    "a = 164\n",
    "\n",
    "int(a)\n",
    "float(a)\n",
    "str(a)"
   ]
  },
  {
   "cell_type": "markdown",
   "metadata": {
    "id": "RiDd7s4AOUNu"
   },
   "source": [
    "10. Why does this expression cause an error? How can you fix it?\n",
    "'I have eaten' +99+ 'burritos.'"
   ]
  },
  {
   "cell_type": "code",
   "execution_count": 6,
   "metadata": {
    "colab": {
     "base_uri": "https://localhost:8080/",
     "height": 35
    },
    "id": "2SOIJkpiOmeP",
    "outputId": "a12230d7-d2d1-4939-9123-ac35afd4c7eb"
   },
   "outputs": [
    {
     "data": {
      "text/plain": [
       "'I have eaten 99 burritos.'"
      ]
     },
     "execution_count": 6,
     "metadata": {},
     "output_type": "execute_result"
    }
   ],
   "source": [
    "# 'I have eaten' +99+ 'burritos.'\n",
    "# We can concatenate only strings together\n",
    "\n",
    "# solution: by putting the 99 int value in single or double inverted commas so that we can change the variable type to str/string\n",
    "'I have eaten' +' 99 '+ 'burritos.'"
   ]
  },
  {
   "cell_type": "code",
   "execution_count": null,
   "metadata": {
    "id": "J3BkR-aAPGLE"
   },
   "outputs": [],
   "source": []
  }
 ],
 "metadata": {
  "colab": {
   "collapsed_sections": [],
   "name": "Assignment_1.ipynb",
   "provenance": []
  },
  "kernelspec": {
   "display_name": "Python 3",
   "language": "python",
   "name": "python3"
  },
  "language_info": {
   "codemirror_mode": {
    "name": "ipython",
    "version": 3
   },
   "file_extension": ".py",
   "mimetype": "text/x-python",
   "name": "python",
   "nbconvert_exporter": "python",
   "pygments_lexer": "ipython3",
   "version": "3.7.6"
  }
 },
 "nbformat": 4,
 "nbformat_minor": 1
}
